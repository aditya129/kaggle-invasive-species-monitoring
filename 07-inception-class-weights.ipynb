{
 "cells": [
  {
   "cell_type": "markdown",
   "metadata": {
    "toc": "true"
   },
   "source": [
    "# Table of Contents\n",
    " <p><div class=\"lev1 toc-item\"><a href=\"#Load-Libraries\" data-toc-modified-id=\"Load-Libraries-1\"><span class=\"toc-item-num\">1&nbsp;&nbsp;</span>Load Libraries</a></div><div class=\"lev1 toc-item\"><a href=\"#Load-data/Create-data-Generators\" data-toc-modified-id=\"Load-data/Create-data-Generators-2\"><span class=\"toc-item-num\">2&nbsp;&nbsp;</span>Load data/Create data Generators</a></div><div class=\"lev1 toc-item\"><a href=\"#AUC-callback-function\" data-toc-modified-id=\"AUC-callback-function-3\"><span class=\"toc-item-num\">3&nbsp;&nbsp;</span>AUC callback function</a></div><div class=\"lev1 toc-item\"><a href=\"#Load-the-model-&amp;-weights\" data-toc-modified-id=\"Load-the-model-&amp;-weights-4\"><span class=\"toc-item-num\">4&nbsp;&nbsp;</span>Load the model &amp; weights</a></div><div class=\"lev1 toc-item\"><a href=\"#Training\" data-toc-modified-id=\"Training-5\"><span class=\"toc-item-num\">5&nbsp;&nbsp;</span>Training</a></div><div class=\"lev1 toc-item\"><a href=\"#Prediction\" data-toc-modified-id=\"Prediction-6\"><span class=\"toc-item-num\">6&nbsp;&nbsp;</span>Prediction</a></div>"
   ]
  },
  {
   "cell_type": "markdown",
   "metadata": {},
   "source": [
    "Training after specifying class weights. Also, calculating AUC after every epoch."
   ]
  },
  {
   "cell_type": "markdown",
   "metadata": {
    "heading_collapsed": true
   },
   "source": [
    "# Load Libraries"
   ]
  },
  {
   "cell_type": "code",
   "execution_count": 1,
   "metadata": {
    "ExecuteTime": {
     "end_time": "2017-08-11T11:31:37.197813Z",
     "start_time": "2017-08-11T11:31:22.146626Z"
    },
    "hidden": true
   },
   "outputs": [
    {
     "name": "stderr",
     "output_type": "stream",
     "text": [
      "Using TensorFlow backend.\n"
     ]
    }
   ],
   "source": [
    "import keras\n",
    "from keras.preprocessing.image import ImageDataGenerator\n",
    "from keras.preprocessing import image\n",
    "from keras.models import Sequential, load_model, Model\n",
    "from keras.layers import Activation, Dropout, Flatten, Dense, GlobalAveragePooling2D\n",
    "from keras.optimizers import SGD\n",
    "from keras.callbacks import EarlyStopping, ModelCheckpoint\n",
    "from keras.applications.inception_v3 import InceptionV3\n",
    "\n",
    "from keras_tqdm import TQDMNotebookCallback\n",
    "\n",
    "from datetime import datetime\n",
    "import os\n",
    "\n",
    "import numpy as np\n",
    "import pandas as pd\n",
    "import math\n",
    "\n",
    "pd.options.display.max_rows = 40"
   ]
  },
  {
   "cell_type": "markdown",
   "metadata": {
    "heading_collapsed": true
   },
   "source": [
    "# Load data/Create data Generators"
   ]
  },
  {
   "cell_type": "code",
   "execution_count": 2,
   "metadata": {
    "ExecuteTime": {
     "end_time": "2017-08-11T11:31:37.202301Z",
     "start_time": "2017-08-11T11:31:37.199410Z"
    },
    "collapsed": true,
    "hidden": true
   },
   "outputs": [],
   "source": [
    "validgen = ImageDataGenerator()"
   ]
  },
  {
   "cell_type": "code",
   "execution_count": 3,
   "metadata": {
    "ExecuteTime": {
     "end_time": "2017-08-11T11:31:37.208331Z",
     "start_time": "2017-08-11T11:31:37.203855Z"
    },
    "collapsed": true,
    "hidden": true
   },
   "outputs": [],
   "source": [
    "# 600/450 _ 500/375 _ 400/300 _ 300/225\n",
    "img_width  = 600\n",
    "img_height = 450\n",
    "\n",
    "train_data_dir      = \"data/train\"\n",
    "validation_data_dir = \"data/valid\"\n",
    "test_data_dir       = \"data/test\"\n",
    "\n",
    "batch_size_train = 16\n",
    "batch_size_val   = 64"
   ]
  },
  {
   "cell_type": "code",
   "execution_count": 4,
   "metadata": {
    "ExecuteTime": {
     "end_time": "2017-08-11T11:31:55.002161Z",
     "start_time": "2017-08-11T11:31:37.209912Z"
    },
    "hidden": true
   },
   "outputs": [
    {
     "name": "stdout",
     "output_type": "stream",
     "text": [
      "Found 568 images belonging to 2 classes.\n"
     ]
    }
   ],
   "source": [
    "val_data = validgen.flow_from_directory(\n",
    "        directory   = validation_data_dir,\n",
    "        target_size = (img_height, img_width),\n",
    "        batch_size  = 568,\n",
    "        class_mode  = \"binary\",\n",
    "        shuffle     = False).next()"
   ]
  },
  {
   "cell_type": "code",
   "execution_count": 5,
   "metadata": {
    "ExecuteTime": {
     "end_time": "2017-08-11T11:32:48.463176Z",
     "start_time": "2017-08-11T11:31:55.003806Z"
    },
    "hidden": true
   },
   "outputs": [
    {
     "name": "stdout",
     "output_type": "stream",
     "text": [
      "Found 1727 images belonging to 2 classes.\n"
     ]
    }
   ],
   "source": [
    "train_data = validgen.flow_from_directory(\n",
    "        directory   = train_data_dir,\n",
    "        target_size = (img_height, img_width),\n",
    "        batch_size  = 1727,\n",
    "        class_mode  = \"binary\",\n",
    "        shuffle     = False).next()"
   ]
  },
  {
   "cell_type": "code",
   "execution_count": 6,
   "metadata": {
    "ExecuteTime": {
     "end_time": "2017-08-11T11:32:48.468121Z",
     "start_time": "2017-08-11T11:32:48.464782Z"
    },
    "collapsed": true,
    "hidden": true
   },
   "outputs": [],
   "source": [
    "datagen = ImageDataGenerator(\n",
    "    rotation_range                = 20,\n",
    "    width_shift_range             = 0.2,\n",
    "    height_shift_range            = 0.2,\n",
    "    horizontal_flip               = True)"
   ]
  },
  {
   "cell_type": "code",
   "execution_count": 7,
   "metadata": {
    "ExecuteTime": {
     "end_time": "2017-08-11T11:32:48.576765Z",
     "start_time": "2017-08-11T11:32:48.469857Z"
    },
    "hidden": true
   },
   "outputs": [
    {
     "name": "stdout",
     "output_type": "stream",
     "text": [
      "Found 1727 images belonging to 2 classes.\n"
     ]
    }
   ],
   "source": [
    "train_gen = datagen.flow_from_directory(\n",
    "        directory   = train_data_dir,\n",
    "        target_size = (img_height, img_width),\n",
    "        batch_size  = batch_size_train,\n",
    "        class_mode  = \"binary\",\n",
    "        shuffle     = True)\n",
    "\n",
    "train_samples      = len(train_gen.filenames)"
   ]
  },
  {
   "cell_type": "markdown",
   "metadata": {
    "heading_collapsed": true
   },
   "source": [
    "# AUC callback function"
   ]
  },
  {
   "cell_type": "code",
   "execution_count": 8,
   "metadata": {
    "ExecuteTime": {
     "end_time": "2017-08-11T11:32:48.737562Z",
     "start_time": "2017-08-11T11:32:48.578611Z"
    },
    "collapsed": true,
    "hidden": true
   },
   "outputs": [],
   "source": [
    "from sklearn.metrics import roc_auc_score"
   ]
  },
  {
   "cell_type": "code",
   "execution_count": 9,
   "metadata": {
    "ExecuteTime": {
     "end_time": "2017-08-11T11:32:48.742144Z",
     "start_time": "2017-08-11T11:32:48.739337Z"
    },
    "collapsed": true,
    "hidden": true
   },
   "outputs": [],
   "source": [
    "from sklearn.metrics import accuracy_score"
   ]
  },
  {
   "cell_type": "code",
   "execution_count": 10,
   "metadata": {
    "ExecuteTime": {
     "end_time": "2017-08-11T11:32:48.746725Z",
     "start_time": "2017-08-11T11:32:48.743837Z"
    },
    "collapsed": true,
    "hidden": true
   },
   "outputs": [],
   "source": [
    "from sklearn.metrics import log_loss"
   ]
  },
  {
   "cell_type": "code",
   "execution_count": 11,
   "metadata": {
    "ExecuteTime": {
     "end_time": "2017-08-11T11:32:48.769636Z",
     "start_time": "2017-08-11T11:32:48.748364Z"
    },
    "collapsed": true,
    "hidden": true
   },
   "outputs": [],
   "source": [
    "class auc_callback(keras.callbacks.Callback):\n",
    "    def __init__(self, val_data):\n",
    "        \n",
    "        self.val_x   = val_data[0]\n",
    "        self.val_y   = val_data[1]\n",
    "        \n",
    "    \n",
    "    def on_train_begin(self, logs={}):\n",
    "        return\n",
    " \n",
    "    def on_train_end(self, logs={}):\n",
    "        return\n",
    " \n",
    "    def on_epoch_begin(self, epoch, logs={}):\n",
    "        return\n",
    " \n",
    "    def on_epoch_end(self, epoch, logs={}):\n",
    "        self.model.save_weights('epoch-'+str(epoch)+'.hdf5')\n",
    "        \n",
    "        val_pred = self.model.predict(self.val_x, batch_size=64, verbose=0)\n",
    "        val_roc  = roc_auc_score(self.val_y, val_pred[:,0])\n",
    "        val_loss = log_loss(self.val_y, np.append(1 - val_pred, val_pred, axis=1))log_loss(self.val_y, np.append(1 - val_pred, val_pred, axis=1))\n",
    "        val_acc  = accuracy_score(self.val_y, val_pred >= 0.5)accuracy_score(self.val_y, val_pred >= 0.5)\n",
    "        \n",
    "        print('\\nVal AUC: ' + str(val_roc))\n",
    "        print('\\nVal Los: ' + str(val_loss))\n",
    "        print('\\nVal Acc: ' + str(val_acc) + '\\n')\n",
    "        return\n",
    " \n",
    "    def on_batch_begin(self, batch, logs={}):\n",
    "        return\n",
    " \n",
    "    def on_batch_end(self, batch, logs={}):\n",
    "        return   "
   ]
  },
  {
   "cell_type": "markdown",
   "metadata": {
    "heading_collapsed": true
   },
   "source": [
    "# Load the model & weights"
   ]
  },
  {
   "cell_type": "code",
   "execution_count": 12,
   "metadata": {
    "ExecuteTime": {
     "end_time": "2017-08-11T11:32:57.951075Z",
     "start_time": "2017-08-11T11:32:48.771147Z"
    },
    "collapsed": true,
    "hidden": true
   },
   "outputs": [],
   "source": [
    "base_model = InceptionV3(include_top = False, weights = 'imagenet')\n",
    "x = base_model.output\n",
    "x = GlobalAveragePooling2D()(x)\n",
    "x = Dense(1024, activation = 'relu')(x)\n",
    "x = Dense(1, activation = 'sigmoid')(x)\n",
    "model_final = Model(inputs=base_model.input, outputs=x)\n",
    "model_final.compile(loss = 'binary_crossentropy',\n",
    "                   optimizer = SGD(lr = 0.0001, momentum = 0.9, decay = 1e-5),\n",
    "                   metrics = ['accuracy'])"
   ]
  },
  {
   "cell_type": "code",
   "execution_count": 19,
   "metadata": {
    "ExecuteTime": {
     "end_time": "2017-08-11T11:58:20.063811Z",
     "start_time": "2017-08-11T11:58:19.736904Z"
    },
    "collapsed": true,
    "hidden": true
   },
   "outputs": [],
   "source": [
    "model_final.load_weights('./weights/weights-iter-5-epoch-32.hdf5')"
   ]
  },
  {
   "cell_type": "code",
   "execution_count": 20,
   "metadata": {
    "ExecuteTime": {
     "end_time": "2017-08-11T11:58:47.581717Z",
     "start_time": "2017-08-11T11:58:20.065393Z"
    },
    "collapsed": true,
    "hidden": true
   },
   "outputs": [],
   "source": [
    "val_pred = model_final.predict(val_data[0], batch_size=64)"
   ]
  },
  {
   "cell_type": "code",
   "execution_count": 21,
   "metadata": {
    "ExecuteTime": {
     "end_time": "2017-08-11T11:58:47.589847Z",
     "start_time": "2017-08-11T11:58:47.583414Z"
    },
    "hidden": true
   },
   "outputs": [
    {
     "data": {
      "text/plain": [
       "0.030787439282007622"
      ]
     },
     "execution_count": 21,
     "metadata": {},
     "output_type": "execute_result"
    }
   ],
   "source": [
    "log_loss(val_data[1], np.append(1 - val_pred, val_pred, axis=1))"
   ]
  },
  {
   "cell_type": "code",
   "execution_count": 22,
   "metadata": {
    "ExecuteTime": {
     "end_time": "2017-08-11T11:58:47.596746Z",
     "start_time": "2017-08-11T11:58:47.591516Z"
    },
    "hidden": true
   },
   "outputs": [
    {
     "data": {
      "text/plain": [
       "0.98943661971830987"
      ]
     },
     "execution_count": 22,
     "metadata": {},
     "output_type": "execute_result"
    }
   ],
   "source": [
    "accuracy_score(val_data[1], val_pred >= 0.5)"
   ]
  },
  {
   "cell_type": "code",
   "execution_count": 23,
   "metadata": {
    "ExecuteTime": {
     "end_time": "2017-08-11T11:58:47.611032Z",
     "start_time": "2017-08-11T11:58:47.598501Z"
    },
    "hidden": true
   },
   "outputs": [
    {
     "data": {
      "text/plain": [
       "0.99940143655227454"
      ]
     },
     "execution_count": 23,
     "metadata": {},
     "output_type": "execute_result"
    }
   ],
   "source": [
    "roc_auc_score(val_data[1], val_pred[:,0])"
   ]
  },
  {
   "cell_type": "markdown",
   "metadata": {},
   "source": [
    "# Training"
   ]
  },
  {
   "cell_type": "code",
   "execution_count": 24,
   "metadata": {
    "ExecuteTime": {
     "end_time": "2017-08-11T11:59:28.643370Z",
     "start_time": "2017-08-11T11:59:28.605123Z"
    },
    "collapsed": true
   },
   "outputs": [],
   "source": [
    "model_final.compile(loss = 'binary_crossentropy',\n",
    "                   optimizer = SGD(lr = 0.01, momentum = 0.9, decay = 1e-5, nesterov = True),\n",
    "                   metrics = ['accuracy'])"
   ]
  },
  {
   "cell_type": "code",
   "execution_count": 25,
   "metadata": {
    "ExecuteTime": {
     "end_time": "2017-08-11T12:22:34.842448Z",
     "start_time": "2017-08-11T11:59:28.893230Z"
    },
    "collapsed": true
   },
   "outputs": [
    {
     "data": {
      "application/vnd.jupyter.widget-view+json": {
       "model_id": "205e15feb8844c9180dac356682b703f"
      }
     },
     "metadata": {},
     "output_type": "display_data"
    },
    {
     "data": {
      "application/vnd.jupyter.widget-view+json": {
       "model_id": "657b105502fe425e8c9c5c25f6f5b92d"
      }
     },
     "metadata": {},
     "output_type": "display_data"
    },
    {
     "name": "stdout",
     "output_type": "stream",
     "text": [
      "Epoch 1/5\n",
      "\n",
      "Val AUC: 0.989219207236\n",
      "\n",
      "Val Los: 0.331199838188\n",
      "\n",
      "Val Acc: 0.897887323944\n",
      "\n",
      "281s - loss: 0.0298 - acc: 0.9786\n"
     ]
    },
    {
     "data": {
      "application/vnd.jupyter.widget-view+json": {
       "model_id": "bf3cf12ddbb843fc9bc56c6c8d2b1675"
      }
     },
     "metadata": {},
     "output_type": "display_data"
    },
    {
     "name": "stdout",
     "output_type": "stream",
     "text": [
      "Epoch 2/5\n",
      "\n",
      "Val AUC: 0.998097898377\n",
      "\n",
      "Val Los: 0.341508335184\n",
      "\n",
      "Val Acc: 0.929577464789\n",
      "\n",
      "272s - loss: 0.0297 - acc: 0.9780\n"
     ]
    },
    {
     "data": {
      "application/vnd.jupyter.widget-view+json": {
       "model_id": "b1f6146069b4414480ccb990ae501075"
      }
     },
     "metadata": {},
     "output_type": "display_data"
    },
    {
     "name": "stdout",
     "output_type": "stream",
     "text": [
      "Epoch 3/5\n",
      "\n",
      "Val AUC: 0.995683692471\n",
      "\n",
      "Val Los: 0.173073417552\n",
      "\n",
      "Val Acc: 0.975352112676\n",
      "\n",
      "272s - loss: 0.0165 - acc: 0.9838\n"
     ]
    },
    {
     "data": {
      "application/vnd.jupyter.widget-view+json": {
       "model_id": "b97b692a3b19433594f3691d1e03b0c3"
      }
     },
     "metadata": {},
     "output_type": "display_data"
    },
    {
     "name": "stdout",
     "output_type": "stream",
     "text": [
      "Epoch 4/5\n",
      "\n",
      "Val AUC: 0.998350625166\n",
      "\n",
      "Val Los: 0.0761135575132\n",
      "\n",
      "Val Acc: 0.980633802817\n",
      "\n",
      "272s - loss: 0.0278 - acc: 0.9832\n"
     ]
    },
    {
     "data": {
      "application/vnd.jupyter.widget-view+json": {
       "model_id": "f2c6d3e7142c434b88dca9dbd46c28b6"
      }
     },
     "metadata": {},
     "output_type": "display_data"
    },
    {
     "name": "stdout",
     "output_type": "stream",
     "text": [
      "Epoch 5/5\n",
      "\n",
      "Val AUC: 0.998057994147\n",
      "\n",
      "Val Los: 0.0639064348009\n",
      "\n",
      "Val Acc: 0.978873239437\n",
      "\n",
      "272s - loss: 0.0175 - acc: 0.9867\n",
      "\n"
     ]
    },
    {
     "data": {
      "text/plain": [
       "<keras.callbacks.History at 0x7f6194a25e80>"
      ]
     },
     "execution_count": 25,
     "metadata": {},
     "output_type": "execute_result"
    }
   ],
   "source": [
    "model_final.fit_generator(generator        = train_gen,\n",
    "                          epochs           = 5, \n",
    "                          steps_per_epoch  = math.ceil(1727 / batch_size_train), \n",
    "                          validation_data  = None, \n",
    "                          verbose          = 2,\n",
    "                          callbacks        = [auc_callback(val_data), TQDMNotebookCallback()],\n",
    "                          class_weight     = {0: 1090/1727, 1: 637/1727})"
   ]
  },
  {
   "cell_type": "code",
   "execution_count": 28,
   "metadata": {
    "ExecuteTime": {
     "end_time": "2017-08-11T12:41:46.373555Z",
     "start_time": "2017-08-11T12:23:36.882699Z"
    }
   },
   "outputs": [
    {
     "data": {
      "application/vnd.jupyter.widget-view+json": {
       "model_id": "067f583cc7234b55be01625932c63d6a"
      }
     },
     "metadata": {},
     "output_type": "display_data"
    },
    {
     "data": {
      "application/vnd.jupyter.widget-view+json": {
       "model_id": "23888d358ab743939a31a0b91b676e83"
      }
     },
     "metadata": {},
     "output_type": "display_data"
    },
    {
     "name": "stdout",
     "output_type": "stream",
     "text": [
      "Epoch 7/10\n",
      "\n",
      "Val AUC: 0.999268422453\n",
      "\n",
      "Val Los: 0.0925881472954\n",
      "\n",
      "Val Acc: 0.970070422535\n",
      "\n",
      "272s - loss: 0.0119 - acc: 0.9931\n"
     ]
    },
    {
     "data": {
      "application/vnd.jupyter.widget-view+json": {
       "model_id": "128b4502ab3d4ecfb6ac4cd6c5202a0d"
      }
     },
     "metadata": {},
     "output_type": "display_data"
    },
    {
     "name": "stdout",
     "output_type": "stream",
     "text": [
      "Epoch 8/10\n",
      "\n",
      "Val AUC: 0.998762968875\n",
      "\n",
      "Val Los: 0.0675169750969\n",
      "\n",
      "Val Acc: 0.977112676056\n",
      "\n",
      "272s - loss: 0.0054 - acc: 0.9965\n"
     ]
    },
    {
     "data": {
      "application/vnd.jupyter.widget-view+json": {
       "model_id": "c1dc28df3b174b6ba5b98fe53c794103"
      }
     },
     "metadata": {},
     "output_type": "display_data"
    },
    {
     "name": "stdout",
     "output_type": "stream",
     "text": [
      "Epoch 9/10\n",
      "\n",
      "Val AUC: 0.999733971801\n",
      "\n",
      "Val Los: 0.0293941304997\n",
      "\n",
      "Val Acc: 0.991197183099\n",
      "\n",
      "272s - loss: 0.0047 - acc: 0.9983\n"
     ]
    },
    {
     "data": {
      "application/vnd.jupyter.widget-view+json": {
       "model_id": "da56ab08aff2407d8347c3f670806fbf"
      }
     },
     "metadata": {},
     "output_type": "display_data"
    },
    {
     "name": "stdout",
     "output_type": "stream",
     "text": [
      "Epoch 10/10\n",
      "\n",
      "Val AUC: 0.999627560521\n",
      "\n",
      "Val Los: 0.0372696775255\n",
      "\n",
      "Val Acc: 0.987676056338\n",
      "\n",
      "272s - loss: 0.0045 - acc: 0.9971\n"
     ]
    },
    {
     "data": {
      "text/plain": [
       "<keras.callbacks.History at 0x7f6162b13390>"
      ]
     },
     "execution_count": 28,
     "metadata": {},
     "output_type": "execute_result"
    }
   ],
   "source": [
    "model_final.fit_generator(initial_epoch=6,\n",
    "                          generator        = train_gen,\n",
    "                          epochs           = 10, \n",
    "                          steps_per_epoch  = math.ceil(1727 / batch_size_train), \n",
    "                          validation_data  = None, \n",
    "                          verbose          = 2,\n",
    "                          callbacks        = [auc_callback(val_data), TQDMNotebookCallback()],\n",
    "                          class_weight     = {0: 1090/1727, 1: 637/1727})"
   ]
  },
  {
   "cell_type": "code",
   "execution_count": 48,
   "metadata": {
    "ExecuteTime": {
     "end_time": "2017-08-11T13:36:42.213146Z",
     "start_time": "2017-08-11T13:36:41.895512Z"
    },
    "collapsed": true
   },
   "outputs": [],
   "source": [
    "model_final.load_weights('./epoch-8.hdf5')"
   ]
  },
  {
   "cell_type": "code",
   "execution_count": 49,
   "metadata": {
    "ExecuteTime": {
     "end_time": "2017-08-11T13:37:14.767126Z",
     "start_time": "2017-08-11T13:36:42.214689Z"
    }
   },
   "outputs": [
    {
     "name": "stdout",
     "output_type": "stream",
     "text": [
      "568/568 [==============================] - 32s    \n"
     ]
    },
    {
     "data": {
      "text/plain": [
       "[0.029394180233589074, 0.99119718309859151]"
      ]
     },
     "execution_count": 49,
     "metadata": {},
     "output_type": "execute_result"
    }
   ],
   "source": [
    "model_final.evaluate(val_data[0], val_data[1], batch_size=32)"
   ]
  },
  {
   "cell_type": "markdown",
   "metadata": {},
   "source": [
    "# Prediction"
   ]
  },
  {
   "cell_type": "code",
   "execution_count": 50,
   "metadata": {
    "ExecuteTime": {
     "end_time": "2017-08-11T13:37:14.883911Z",
     "start_time": "2017-08-11T13:37:14.769465Z"
    }
   },
   "outputs": [
    {
     "name": "stdout",
     "output_type": "stream",
     "text": [
      "Found 1531 images belonging to 1 classes.\n"
     ]
    }
   ],
   "source": [
    "batch_size_test = 32\n",
    "\n",
    "test_gen = validgen.flow_from_directory(\n",
    "        directory   = test_data_dir,\n",
    "        target_size = (img_height, img_width),\n",
    "        batch_size  = batch_size_test,\n",
    "        class_mode  = \"binary\",\n",
    "        shuffle     = False)\n",
    "\n",
    "test_samples       = len(test_gen.filenames)"
   ]
  },
  {
   "cell_type": "code",
   "execution_count": 51,
   "metadata": {
    "ExecuteTime": {
     "end_time": "2017-08-11T13:38:36.416204Z",
     "start_time": "2017-08-11T13:37:19.406655Z"
    },
    "collapsed": true
   },
   "outputs": [],
   "source": [
    "preds = model_final.predict_generator(test_gen, math.ceil(test_samples / batch_size_test))"
   ]
  },
  {
   "cell_type": "code",
   "execution_count": 52,
   "metadata": {
    "ExecuteTime": {
     "end_time": "2017-08-11T13:38:36.445329Z",
     "start_time": "2017-08-11T13:38:36.418035Z"
    }
   },
   "outputs": [
    {
     "data": {
      "text/html": [
       "<a href='submission_08.csv' target='_blank'>submission_08.csv</a><br>"
      ],
      "text/plain": [
       "/home/ubuntu/extvol/kaggle-invasive-species-monitoring/submission_08.csv"
      ]
     },
     "execution_count": 52,
     "metadata": {},
     "output_type": "execute_result"
    }
   ],
   "source": [
    "preds_filenames = test_gen.filenames\n",
    "preds_filenames = [int(x.replace(\"unknown/\", \"\").replace(\".jpg\", \"\")) for x in preds_filenames]\n",
    "df_result = pd.DataFrame({'name': preds_filenames, 'invasive': preds[:,0]})\n",
    "df_result = df_result.sort_values(\"name\")\n",
    "df_result.index = df_result[\"name\"]\n",
    "df_result = df_result.drop([\"name\"], axis=1)\n",
    "df_result.to_csv(\"submission_08.csv\", encoding=\"utf8\", index=True)\n",
    "from IPython.display import FileLink\n",
    "FileLink('submission_08.csv')"
   ]
  },
  {
   "cell_type": "code",
   "execution_count": null,
   "metadata": {
    "collapsed": true
   },
   "outputs": [],
   "source": [
    "# Got 0.99553 on LB"
   ]
  }
 ],
 "metadata": {
  "kernelspec": {
   "display_name": "Python 3",
   "language": "python",
   "name": "python3"
  },
  "language_info": {
   "codemirror_mode": {
    "name": "ipython",
    "version": 3
   },
   "file_extension": ".py",
   "mimetype": "text/x-python",
   "name": "python",
   "nbconvert_exporter": "python",
   "pygments_lexer": "ipython3",
   "version": "3.6.1"
  },
  "toc": {
   "colors": {
    "hover_highlight": "#DAA520",
    "navigate_num": "#000000",
    "navigate_text": "#333333",
    "running_highlight": "#FF0000",
    "selected_highlight": "#FFD700",
    "sidebar_border": "#EEEEEE",
    "wrapper_background": "#FFFFFF"
   },
   "moveMenuLeft": true,
   "nav_menu": {
    "height": "102px",
    "width": "252px"
   },
   "navigate_menu": true,
   "number_sections": true,
   "sideBar": true,
   "threshold": 4,
   "toc_cell": true,
   "toc_position": {
    "height": "43px",
    "left": "0px",
    "right": "779px",
    "top": "106px",
    "width": "179px"
   },
   "toc_section_display": "block",
   "toc_window_display": true,
   "widenNotebook": false
  }
 },
 "nbformat": 4,
 "nbformat_minor": 2
}
