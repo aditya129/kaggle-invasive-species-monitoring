{
 "cells": [
  {
   "cell_type": "markdown",
   "metadata": {
    "toc": "true"
   },
   "source": [
    "# Table of Contents\n",
    " <p>"
   ]
  },
  {
   "cell_type": "code",
   "execution_count": 1,
   "metadata": {
    "ExecuteTime": {
     "end_time": "2017-08-12T03:05:08.036206Z",
     "start_time": "2017-08-12T03:05:07.969182Z"
    },
    "collapsed": true
   },
   "outputs": [],
   "source": [
    "import numpy as np"
   ]
  },
  {
   "cell_type": "code",
   "execution_count": 2,
   "metadata": {
    "ExecuteTime": {
     "end_time": "2017-08-12T03:05:08.658427Z",
     "start_time": "2017-08-12T03:05:08.323945Z"
    },
    "collapsed": true
   },
   "outputs": [],
   "source": [
    "import pandas as pd"
   ]
  },
  {
   "cell_type": "code",
   "execution_count": 3,
   "metadata": {
    "ExecuteTime": {
     "end_time": "2017-08-12T03:05:28.782101Z",
     "start_time": "2017-08-12T03:05:28.773943Z"
    },
    "collapsed": true
   },
   "outputs": [],
   "source": [
    "vgg = pd.read_csv('submission_10.csv')"
   ]
  },
  {
   "cell_type": "code",
   "execution_count": 4,
   "metadata": {
    "ExecuteTime": {
     "end_time": "2017-08-12T03:05:29.850867Z",
     "start_time": "2017-08-12T03:05:29.844079Z"
    },
    "collapsed": true
   },
   "outputs": [],
   "source": [
    "inception = pd.read_csv('submission_08.csv')"
   ]
  },
  {
   "cell_type": "code",
   "execution_count": 7,
   "metadata": {
    "ExecuteTime": {
     "end_time": "2017-08-12T03:05:44.274891Z",
     "start_time": "2017-08-12T03:05:44.269122Z"
    },
    "collapsed": true
   },
   "outputs": [],
   "source": [
    "resnet = pd.read_csv('submission_09.csv')"
   ]
  },
  {
   "cell_type": "code",
   "execution_count": 8,
   "metadata": {
    "ExecuteTime": {
     "end_time": "2017-08-12T03:05:45.631041Z",
     "start_time": "2017-08-12T03:05:45.619138Z"
    }
   },
   "outputs": [
    {
     "data": {
      "text/plain": [
       "True"
      ]
     },
     "execution_count": 8,
     "metadata": {},
     "output_type": "execute_result"
    }
   ],
   "source": [
    "np.all(resnet.name == inception.name)"
   ]
  },
  {
   "cell_type": "code",
   "execution_count": 9,
   "metadata": {
    "ExecuteTime": {
     "end_time": "2017-08-12T03:05:46.779021Z",
     "start_time": "2017-08-12T03:05:46.773977Z"
    }
   },
   "outputs": [
    {
     "data": {
      "text/plain": [
       "True"
      ]
     },
     "execution_count": 9,
     "metadata": {},
     "output_type": "execute_result"
    }
   ],
   "source": [
    "np.all(vgg.name == inception.name)"
   ]
  },
  {
   "cell_type": "code",
   "execution_count": 10,
   "metadata": {
    "ExecuteTime": {
     "end_time": "2017-08-12T03:06:00.938792Z",
     "start_time": "2017-08-12T03:06:00.933959Z"
    },
    "collapsed": true
   },
   "outputs": [],
   "source": [
    "df = pd.DataFrame({'name': vgg.name, 'invasive': (vgg.invasive + inception.invasive)/2})"
   ]
  },
  {
   "cell_type": "code",
   "execution_count": 11,
   "metadata": {
    "ExecuteTime": {
     "end_time": "2017-08-12T03:06:02.158414Z",
     "start_time": "2017-08-12T03:06:02.153952Z"
    },
    "collapsed": true
   },
   "outputs": [],
   "source": [
    "df = df[['name', 'invasive']]"
   ]
  },
  {
   "cell_type": "code",
   "execution_count": 12,
   "metadata": {
    "ExecuteTime": {
     "end_time": "2017-08-12T03:06:08.607531Z",
     "start_time": "2017-08-12T03:06:08.596706Z"
    }
   },
   "outputs": [
    {
     "data": {
      "text/html": [
       "<a href='submission_ensem_4.csv' target='_blank'>submission_ensem_4.csv</a><br>"
      ],
      "text/plain": [
       "/home/ubuntu/extvol/kaggle-invasive-species-monitoring/submission_ensem_4.csv"
      ]
     },
     "execution_count": 12,
     "metadata": {},
     "output_type": "execute_result"
    }
   ],
   "source": [
    "df.to_csv(\"submission_ensem_4.csv\", encoding=\"utf8\", index=False)\n",
    "from IPython.display import FileLink\n",
    "FileLink('submission_ensem_4.csv')"
   ]
  },
  {
   "cell_type": "code",
   "execution_count": null,
   "metadata": {
    "collapsed": true
   },
   "outputs": [],
   "source": [
    "# Got 0.99527 on LB"
   ]
  },
  {
   "cell_type": "code",
   "execution_count": 13,
   "metadata": {
    "ExecuteTime": {
     "end_time": "2017-08-12T03:07:30.696386Z",
     "start_time": "2017-08-12T03:07:30.681739Z"
    }
   },
   "outputs": [
    {
     "data": {
      "text/html": [
       "<a href='submission_ensem_5.csv' target='_blank'>submission_ensem_5.csv</a><br>"
      ],
      "text/plain": [
       "/home/ubuntu/extvol/kaggle-invasive-species-monitoring/submission_ensem_5.csv"
      ]
     },
     "execution_count": 13,
     "metadata": {},
     "output_type": "execute_result"
    }
   ],
   "source": [
    "df = pd.DataFrame({'name': vgg.name, 'invasive': (vgg.invasive + inception.invasive + resnet.invasive)/3})\n",
    "df = df[['name', 'invasive']]\n",
    "df.to_csv(\"submission_ensem_5.csv\", encoding=\"utf8\", index=False)\n",
    "from IPython.display import FileLink\n",
    "FileLink('submission_ensem_5.csv')"
   ]
  },
  {
   "cell_type": "code",
   "execution_count": null,
   "metadata": {
    "collapsed": true
   },
   "outputs": [],
   "source": [
    "# Got 0.99397 on LB"
   ]
  }
 ],
 "metadata": {
  "kernelspec": {
   "display_name": "Python 3",
   "language": "python",
   "name": "python3"
  },
  "language_info": {
   "codemirror_mode": {
    "name": "ipython",
    "version": 3
   },
   "file_extension": ".py",
   "mimetype": "text/x-python",
   "name": "python",
   "nbconvert_exporter": "python",
   "pygments_lexer": "ipython3",
   "version": "3.6.1"
  },
  "toc": {
   "colors": {
    "hover_highlight": "#DAA520",
    "navigate_num": "#000000",
    "navigate_text": "#333333",
    "running_highlight": "#FF0000",
    "selected_highlight": "#FFD700",
    "sidebar_border": "#EEEEEE",
    "wrapper_background": "#FFFFFF"
   },
   "moveMenuLeft": true,
   "nav_menu": {
    "height": "12px",
    "width": "252px"
   },
   "navigate_menu": true,
   "number_sections": true,
   "sideBar": true,
   "threshold": 4,
   "toc_cell": true,
   "toc_section_display": "block",
   "toc_window_display": true,
   "widenNotebook": false
  }
 },
 "nbformat": 4,
 "nbformat_minor": 2
}
